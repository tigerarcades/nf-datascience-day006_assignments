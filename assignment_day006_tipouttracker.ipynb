{
 "cells": [
  {
   "cell_type": "code",
   "execution_count": 2,
   "metadata": {},
   "outputs": [],
   "source": [
    "class TipOutTracker:\n",
    "    def __init__(self, default_rate=.18) -> None:\n",
    "        super().__init__()\n",
    "        self.bills = []\n",
    "        self.default_rate = default_rate\n",
    "\n",
    "    def add_bill(self, bill, rate=None):\n",
    "        rate = rate if rate is not None else self.default_rate\n",
    "        self.bills.append((bill, rate))\n",
    "\n",
    "    def with_tip_out_trackers(self, tip_out_trackers):\n",
    "        return self.total_tip_out() + sum(map(lambda t: t.total_tip_out(), tip_out_trackers))\n",
    "\n",
    "    def total_tip_out(self):\n",
    "        return sum(map(lambda bill_n_rate: bill_n_rate[0] * bill_n_rate[1], self.bills))\n"
   ]
  },
  {
   "cell_type": "markdown",
   "metadata": {},
   "source": [
    "- What are the attributes (data) that you are going to store on the class?\n",
    "  - What data is being abstracted away from the user of your class?\n",
    "\n",
    "> A list `bills` for all the bills being added and default tip rate `default_rate`."
   ]
  },
  {
   "cell_type": "markdown",
   "metadata": {},
   "source": [
    "- What are the methods (functions) that you are going to operate on the attributes with?\n",
    "  - What are the ways that a user of your class will be able to interact with the data it stores?\n",
    "\n",
    "> A consumer of the instances should not intact with the data stored but by the methods which are provided to determine the use cases of the class and its instances."
   ]
  }
 ],
 "metadata": {
  "kernelspec": {
   "display_name": "Python 3",
   "language": "python",
   "name": "python3"
  },
  "language_info": {
   "codemirror_mode": {
    "name": "ipython",
    "version": 3
   },
   "file_extension": ".py",
   "mimetype": "text/x-python",
   "name": "python",
   "nbconvert_exporter": "python",
   "pygments_lexer": "ipython3",
   "version": "3.7.3"
  }
 },
 "nbformat": 4,
 "nbformat_minor": 2
}
