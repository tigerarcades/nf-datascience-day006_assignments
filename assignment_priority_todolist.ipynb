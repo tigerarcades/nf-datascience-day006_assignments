{
 "cells": [
  {
   "cell_type": "code",
   "execution_count": 57,
   "metadata": {},
   "outputs": [],
   "source": [
    "class Todo:\n",
    "    def __init__(self, message, priority=100):\n",
    "        self.message = message\n",
    "        self.priority = priority\n",
    "        self.done = False\n",
    "    \n",
    "    def is_done(self):\n",
    "        self.done = True\n",
    "    \n",
    "    def __str__(self):\n",
    "        return '({}) {} - {}, '.format('✓' if self.done else '✕', self.priority, self.message)\n",
    "\n",
    "class TodoList:\n",
    "    \n",
    "    def __init__(self):\n",
    "        self.items = []\n",
    "\n",
    "    def add_item(self, item):\n",
    "        self.items.append(item)\n",
    "\n",
    "    def complete_all(self):\n",
    "        for item in self.items:\n",
    "            item.is_done()\n",
    "\n",
    "    def get_item_at(self, index):\n",
    "        if index < len(self.items):\n",
    "            return self.items[index]\n",
    "        else:\n",
    "            return None\n",
    "            \n",
    "    def is_empty(self):\n",
    "        return len(self.items) == 0\n",
    "        \n",
    "    def new_item(self, message):\n",
    "        self.items.append(Todo(message))\n",
    "        \n",
    "    def remove(self, item):\n",
    "        self.items.remove(item)\n",
    "\n",
    "    def remove_completed(self):\n",
    "        self.items = list(filter(lambda item: not item.is_done, self.items))\n",
    "        \n",
    "    def __str__(self):\n",
    "        sorted_by_priority = sorted(self.items, key=lambda item: item.priority)\n",
    "        if self.is_empty():\n",
    "            return 'empty TodoList'\n",
    "        return '\\n'.join(list(map(str, sorted_by_priority)))\n",
    "        "
   ]
  },
  {
   "cell_type": "code",
   "execution_count": 63,
   "metadata": {},
   "outputs": [
    {
     "name": "stdout",
     "output_type": "stream",
     "text": [
      "(✕) 1 - Solve me first, \n",
      "(✕) 100 - Solve me later, \n",
      "(✓) 1 - Solve me first, \n",
      "(✓) 100 - Solve me later, \n",
      "empty TodoList\n"
     ]
    }
   ],
   "source": [
    "todoList = TodoList()\n",
    "todoList.add_item(Todo('Solve me later'))\n",
    "todoList.add_item(Todo('Solve me first', 1))\n",
    "assert not todoList.is_empty()\n",
    "print(todoList)\n",
    "\n",
    "todoList.complete_all()\n",
    "assert not todoList.is_empty()\n",
    "print(todoList)\n",
    "\n",
    "todoList.remove_completed()\n",
    "assert todoList.is_empty()\n",
    "print(todoList)"
   ]
  },
  {
   "cell_type": "code",
   "execution_count": null,
   "metadata": {},
   "outputs": [],
   "source": []
  }
 ],
 "metadata": {
  "kernelspec": {
   "display_name": "Python 3",
   "language": "python",
   "name": "python3"
  },
  "language_info": {
   "codemirror_mode": {
    "name": "ipython",
    "version": 3
   },
   "file_extension": ".py",
   "mimetype": "text/x-python",
   "name": "python",
   "nbconvert_exporter": "python",
   "pygments_lexer": "ipython3",
   "version": "3.7.3"
  }
 },
 "nbformat": 4,
 "nbformat_minor": 2
}
