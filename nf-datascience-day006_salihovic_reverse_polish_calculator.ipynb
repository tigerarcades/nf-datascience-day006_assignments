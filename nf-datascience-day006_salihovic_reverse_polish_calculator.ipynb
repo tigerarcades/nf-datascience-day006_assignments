{
 "cells": [
  {
   "cell_type": "code",
   "execution_count": null,
   "metadata": {},
   "outputs": [],
   "source": [
    "def polish_reverse_calculator(input_string):\n",
    "    symbols = {\n",
    "        '+': lambda o1, o2: o1 + o2,\n",
    "        '-': lambda o1, o2: o1 - o2,\n",
    "        '*': lambda o1, o2: o1 * o2,\n",
    "        '/': lambda o1, o2: o1 / o2,\n",
    "    }\n",
    "    \n",
    "    data = input_string.split(' ')\n",
    "    stack = []\n",
    "    for item in data:\n",
    "        if item in symbols.keys():\n",
    "            stack.append(symbols[item](stack.pop(), stack.pop()))\n",
    "        else:\n",
    "            stack.append(int(item))\n",
    "    return stack[0]\n"
   ]
  },
  {
   "cell_type": "code",
   "execution_count": null,
   "metadata": {},
   "outputs": [],
   "source": [
    "assert 2 == polish_reverse_calculator('1 1 +')"
   ]
  },
  {
   "cell_type": "code",
   "execution_count": null,
   "metadata": {},
   "outputs": [],
   "source": [
    "assert 5 == polish_reverse_calculator('15 7 1 1 + - / 3 * 2 1 1 + + -')"
   ]
  }
 ],
 "metadata": {
  "kernelspec": {
   "display_name": "Python 3",
   "language": "python",
   "name": "python3"
  },
  "language_info": {
   "codemirror_mode": {
    "name": "ipython",
    "version": 3
   },
   "file_extension": ".py",
   "mimetype": "text/x-python",
   "name": "python",
   "nbconvert_exporter": "python",
   "pygments_lexer": "ipython3",
   "version": "3.7.3"
  }
 },
 "nbformat": 4,
 "nbformat_minor": 2
}
