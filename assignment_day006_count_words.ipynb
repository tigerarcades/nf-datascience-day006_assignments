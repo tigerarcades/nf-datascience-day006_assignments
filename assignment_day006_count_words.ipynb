{
 "cells": [
  {
   "cell_type": "code",
   "execution_count": null,
   "metadata": {},
   "outputs": [],
   "source": [
    "class BookWordCounter():\n",
    "    def __init__(self, book_path):\n",
    "        self.book_path = book_path\n",
    "        self.has_counted = False\n",
    "        self.num_words = 0\n",
    "\n",
    "    def count_words(self):\n",
    "        with open(self.book_path) as book:\n",
    "            for line in book:\n",
    "                self.num_words += len(line.split())\n",
    "\n",
    "    def num_words_in_book(self):\n",
    "        if not self.has_counted:\n",
    "            self.count_words()\n",
    "        return self.num_words\n",
    "\n",
    "if __name__ == '__main__':\n",
    "    try:\n",
    "        flat_land_counter = BookWordCounter('misc/books/flatland.txt')\n",
    "        print(flat_land_counter.num_words_in_book())\n",
    "        programming_lang_counter = BookWordCounter('misc/books/programming_languages.txt')\n",
    "        print(programming_lang_counter.num_words_in_book())\n",
    "    except FileNotFoundError as error:\n",
    "        print(error)\n"
   ]
  },
  {
   "cell_type": "markdown",
   "metadata": {},
   "source": [
    "### Now ask yourself:\n",
    "- Is encapsulation being taken advantage of when using this class?\n",
    "> Yes and no. While the instances take care of their own state, the properties are partially superfluous, as everything can be calculated once in the constructor.\n"
   ]
  },
  {
   "cell_type": "markdown",
   "metadata": {},
   "source": [
    "- Is there data that is being stored on the class as an attribute?\n",
    "  - Is it changing?\n",
    "\n",
    "> No, as all properties are instance variables: `has_counted` and `num_words`. Only `num_words` is mutated though.\n"
   ]
  },
  {
   "cell_type": "markdown",
   "metadata": {},
   "source": [
    "- Does calling methods on the class allow me to interact with that data?\n",
    "\n",
    "> If interaction means mutation at runtime once the instance has been constructed, than we could only interact with the loaded data by calling `num_words_in_book`."
   ]
  },
  {
   "cell_type": "markdown",
   "metadata": {},
   "source": [
    "- Could this be done with a function???\n",
    "\n",
    "> Absolutley, as seen in the example below."
   ]
  },
  {
   "cell_type": "code",
   "execution_count": null,
   "metadata": {},
   "outputs": [],
   "source": [
    "def count_words(file_path):\n",
    "    with open(file_path) as file:\n",
    "        return sum([len(line.split()) for line in file])"
   ]
  }
 ],
 "metadata": {
  "kernelspec": {
   "display_name": "Python 3",
   "language": "python",
   "name": "python3"
  },
  "language_info": {
   "codemirror_mode": {
    "name": "ipython",
    "version": 3
   },
   "file_extension": ".py",
   "mimetype": "text/x-python",
   "name": "python",
   "nbconvert_exporter": "python",
   "pygments_lexer": "ipython3",
   "version": "3.7.3"
  }
 },
 "nbformat": 4,
 "nbformat_minor": 2
}
