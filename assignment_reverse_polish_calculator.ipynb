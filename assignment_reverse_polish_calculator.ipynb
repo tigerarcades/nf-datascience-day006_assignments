{
 "cells": [
  {
   "cell_type": "code",
   "execution_count": 26,
   "metadata": {},
   "outputs": [],
   "source": [
    "def polish_reverse_calculator(input_string):\n",
    "    symbols = {\n",
    "        '+': lambda o1, o2: o1 + o2,\n",
    "        '-': lambda o1, o2: o1 - o2,\n",
    "        '*': lambda o1, o2: o1 * o2,\n",
    "        '/': lambda o1, o2: o1 / o2,\n",
    "    }\n",
    "    \n",
    "    data = input_string.split(' ')\n",
    "    stack = []\n",
    "    for item in data:\n",
    "        if item in symbols.keys():\n",
    "            o1 = stack.pop()\n",
    "            o2 = stack.pop()\n",
    "            stack.append(symbols[item](o1, o2))\n",
    "        else:\n",
    "            stack.append(int(item))\n",
    "    return stack[0]\n"
   ]
  },
  {
   "cell_type": "code",
   "execution_count": 27,
   "metadata": {},
   "outputs": [],
   "source": [
    "assert 2 == symbols['+'](1, 1)"
   ]
  },
  {
   "cell_type": "code",
   "execution_count": 28,
   "metadata": {},
   "outputs": [],
   "source": [
    "assert 2 == polish_reverse_calculator('1 1 +')"
   ]
  },
  {
   "cell_type": "code",
   "execution_count": 29,
   "metadata": {},
   "outputs": [],
   "source": [
    "assert 5 == polish_reverse_calculator('15 7 1 1 + - / 3 * 2 1 1 + + -')"
   ]
  }
 ],
 "metadata": {
  "kernelspec": {
   "display_name": "Python [conda env:nf] *",
   "language": "python",
   "name": "conda-env-nf-py"
  },
  "language_info": {
   "codemirror_mode": {
    "name": "ipython",
    "version": 3
   },
   "file_extension": ".py",
   "mimetype": "text/x-python",
   "name": "python",
   "nbconvert_exporter": "python",
   "pygments_lexer": "ipython3",
   "version": "3.6.6"
  }
 },
 "nbformat": 4,
 "nbformat_minor": 2
}
